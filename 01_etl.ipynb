{
  "cells": [
    {
      "cell_type": "code",
      "execution_count": null,
      "metadata": {
        "id": "u19HPpTLLy3J"
      },
      "outputs": [],
      "source": [
        "\"\"\"\n",
        "    Instruções:\n",
        "        1- Download dos dados municipais do estado de Minas Gerais;\n",
        "        2- Transformação dos dados de desmatamento;\n",
        "        3- Processamento dos dados:\n",
        "            -reprojeção para EPSG:31983;\n",
        "            -cálculo de área;\n",
        "        4- Geração dos arquivos de saída no formato GeoJSON;\n",
        "\"\"\""
      ]
    },
    {
      "cell_type": "markdown",
      "source": [],
      "metadata": {
        "id": "O8oeVmQVORF6"
      }
    },
    {
      "cell_type": "code",
      "source": [],
      "metadata": {
        "id": "kGBoO-4pNVOV"
      },
      "execution_count": null,
      "outputs": []
    }
  ],
  "metadata": {
    "language_info": {
      "name": "python"
    },
    "colab": {
      "provenance": []
    },
    "kernelspec": {
      "name": "python3",
      "display_name": "Python 3"
    }
  },
  "nbformat": 4,
  "nbformat_minor": 0
}